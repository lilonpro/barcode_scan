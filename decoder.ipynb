{
 "cells": [
  {
   "cell_type": "code",
   "execution_count": 1,
   "id": "10a71a82-4162-4ed0-88af-4ff4bf3bf993",
   "metadata": {},
   "outputs": [],
   "source": [
    "from pyzbar import pyzbar\n",
    "import cv2\n",
    "from glob import glob\n",
    "import tempfile\n",
    "import os\n",
    "from pdf2image import convert_from_path, convert_from_bytes\n",
    "from pdf2image.exceptions import (\n",
    "    PDFInfoNotInstalledError,\n",
    "    PDFPageCountError,\n",
    "    PDFSyntaxError\n",
    ")\n",
    "\n",
    "\n",
    "def decode(image):\n",
    "    # decodes all barcodes from an image\n",
    "    decoded_objects = pyzbar.decode(image)\n",
    "    print(decoded_objects)\n",
    "    for obj in decoded_objects:\n",
    "        # draw the barcode\n",
    "        print(\"detected barcode:\", obj)\n",
    "        image = draw_barcode(obj, image)\n",
    "        # print barcode type & data\n",
    "        print(\"Type:\", obj.type)\n",
    "        print(\"Data:\", obj.data)\n",
    "        print()\n",
    "\n",
    "    return image\n",
    "\n",
    "def draw_barcode(decoded, image):\n",
    "    # n_points = len(decoded.polygon)\n",
    "    # for i in range(n_points):\n",
    "    #     image = cv2.line(image, decoded.polygon[i], decoded.polygon[(i+1) % n_points], color=(0, 255, 0), thickness=5)\n",
    "    # uncomment above and comment below if you want to draw a polygon and not a rectangle\n",
    "    image = cv2.rectangle(image, (decoded.rect.left, decoded.rect.top), \n",
    "                            (decoded.rect.left + decoded.rect.width, decoded.rect.top + decoded.rect.height),\n",
    "                            color=(0, 255, 0),\n",
    "                            thickness=5)\n",
    "    return image"
   ]
  },
  {
   "cell_type": "code",
   "execution_count": 2,
   "id": "2da6dc23-80ec-4e56-bbe8-1ca892e5d336",
   "metadata": {},
   "outputs": [
    {
     "name": "stdout",
     "output_type": "stream",
     "text": [
      "/tmp/tmpmlzr_4ty/epod-0001-1.png\n",
      "[Decoded(data=b'SO-11787199-1', type='CODE128', rect=Rect(left=1691, top=1123, width=0, height=48), polygon=[Point(x=1691, y=1123), Point(x=1691, y=1171)])]\n",
      "detected barcode: Decoded(data=b'SO-11787199-1', type='CODE128', rect=Rect(left=1691, top=1123, width=0, height=48), polygon=[Point(x=1691, y=1123), Point(x=1691, y=1171)])\n",
      "Type: CODE128\n",
      "Data: b'SO-11787199-1'\n",
      "\n",
      "/tmp/tmpmlzr_4ty/epod-0001-2.png\n",
      "[Decoded(data=b'SO-11787199-2', type='CODE128', rect=Rect(left=1691, top=1123, width=0, height=48), polygon=[Point(x=1691, y=1123), Point(x=1691, y=1171)])]\n",
      "detected barcode: Decoded(data=b'SO-11787199-2', type='CODE128', rect=Rect(left=1691, top=1123, width=0, height=48), polygon=[Point(x=1691, y=1123), Point(x=1691, y=1171)])\n",
      "Type: CODE128\n",
      "Data: b'SO-11787199-2'\n",
      "\n"
     ]
    }
   ],
   "source": [
    "if __name__ == \"__main__\":\n",
    "    with tempfile.TemporaryDirectory() as path:\n",
    "        file_prefix = \"epod-\"\n",
    "        images_from_path = convert_from_path('SO_BOL.pdf', output_folder=path, fmt=\"png\", output_file=file_prefix)\n",
    "        for i in range(1, len(images_from_path) + 1):\n",
    "            image_path = f\"{path}/{file_prefix}0001-{i}.png\"\n",
    "            print(image_path)\n",
    "            decode(cv2.imread(image_path))\n",
    "        \n",
    "#     barcodes = glob(\"/tmp/epod0001-2.png\")\n",
    "#     for barcode_file in barcodes:\n",
    "#         print(barcode_file)\n",
    "#         img = cv2.imread(barcode_file)\n",
    "#         img = decode(img)"
   ]
  },
  {
   "cell_type": "code",
   "execution_count": null,
   "id": "92b678d1-bc42-45a4-8cf4-e01fe1431e98",
   "metadata": {},
   "outputs": [],
   "source": []
  }
 ],
 "metadata": {
  "kernelspec": {
   "display_name": "Python 3",
   "language": "python",
   "name": "python3"
  },
  "language_info": {
   "codemirror_mode": {
    "name": "ipython",
    "version": 3
   },
   "file_extension": ".py",
   "mimetype": "text/x-python",
   "name": "python",
   "nbconvert_exporter": "python",
   "pygments_lexer": "ipython3",
   "version": "3.7.10"
  }
 },
 "nbformat": 4,
 "nbformat_minor": 5
}
