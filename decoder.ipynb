{
 "cells": [
  {
   "cell_type": "code",
   "execution_count": 26,
   "id": "10a71a82-4162-4ed0-88af-4ff4bf3bf993",
   "metadata": {},
   "outputs": [],
   "source": [
    "from pyzbar import pyzbar\n",
    "import cv2\n",
    "\n",
    "def decode(image):\n",
    "    # decodes all barcodes from an image\n",
    "    decoded_objects = pyzbar.decode(image)\n",
    "    print(decoded_objects)\n",
    "    for obj in decoded_objects:\n",
    "        # draw the barcode\n",
    "        print(\"detected barcode:\", obj)\n",
    "        image = draw_barcode(obj, image)\n",
    "        # print barcode type & data\n",
    "        print(\"Type:\", obj.type)\n",
    "        print(\"Data:\", obj.data)\n",
    "        print()\n",
    "\n",
    "    return image\n",
    "\n",
    "def draw_barcode(decoded, image):\n",
    "    # n_points = len(decoded.polygon)\n",
    "    # for i in range(n_points):\n",
    "    #     image = cv2.line(image, decoded.polygon[i], decoded.polygon[(i+1) % n_points], color=(0, 255, 0), thickness=5)\n",
    "    # uncomment above and comment below if you want to draw a polygon and not a rectangle\n",
    "    image = cv2.rectangle(image, (decoded.rect.left, decoded.rect.top), \n",
    "                            (decoded.rect.left + decoded.rect.width, decoded.rect.top + decoded.rect.height),\n",
    "                            color=(0, 255, 0),\n",
    "                            thickness=5)\n",
    "    return image"
   ]
  },
  {
   "cell_type": "code",
   "execution_count": 29,
   "id": "2da6dc23-80ec-4e56-bbe8-1ca892e5d336",
   "metadata": {},
   "outputs": [
    {
     "name": "stdout",
     "output_type": "stream",
     "text": [
      "[Decoded(data=b'01093123456789071711061510ABC123', type='DATABAR_EXP', rect=Rect(left=260, top=76, width=421, height=50), polygon=[Point(x=260, y=77), Point(x=260, y=117), Point(x=288, y=119), Point(x=361, y=123), Point(x=410, y=125), Point(x=484, y=126), Point(x=681, y=126), Point(x=681, y=76)])]\n",
      "detected barcode: Decoded(data=b'01093123456789071711061510ABC123', type='DATABAR_EXP', rect=Rect(left=260, top=76, width=421, height=50), polygon=[Point(x=260, y=77), Point(x=260, y=117), Point(x=288, y=119), Point(x=361, y=123), Point(x=410, y=125), Point(x=484, y=126), Point(x=681, y=126), Point(x=681, y=76)])\n",
      "Type: DATABAR_EXP\n",
      "Data: b'01093123456789071711061510ABC123'\n",
      "\n"
     ]
    }
   ],
   "source": [
    "if __name__ == \"__main__\":\n",
    "    from glob import glob\n",
    "\n",
    "    barcodes = glob(\"s_8AE105C7BA6934A9BF264A65968AE70A37AE918A5E99F0B9AEE169F7AC0D7610_1563423395893_image.png\")\n",
    "    for barcode_file in barcodes:\n",
    "        # load the image to opencv\n",
    "        img = cv2.imread(barcode_file)\n",
    "        # decode detected barcodes & get the image\n",
    "        # that is drawn\n",
    "        img = decode(img)\n",
    "        # show the image\n",
    "        # not working un wsl\n",
    "#         cv2.imshow(\"img\", img)\n",
    "#         cv2.waitKey(0)"
   ]
  },
  {
   "cell_type": "code",
   "execution_count": null,
   "id": "92b678d1-bc42-45a4-8cf4-e01fe1431e98",
   "metadata": {},
   "outputs": [],
   "source": []
  }
 ],
 "metadata": {
  "kernelspec": {
   "display_name": "Python 3",
   "language": "python",
   "name": "python3"
  },
  "language_info": {
   "codemirror_mode": {
    "name": "ipython",
    "version": 3
   },
   "file_extension": ".py",
   "mimetype": "text/x-python",
   "name": "python",
   "nbconvert_exporter": "python",
   "pygments_lexer": "ipython3",
   "version": "3.7.10"
  }
 },
 "nbformat": 4,
 "nbformat_minor": 5
}
